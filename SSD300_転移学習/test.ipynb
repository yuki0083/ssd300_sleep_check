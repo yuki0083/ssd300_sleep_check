{
 "cells": [
  {
   "cell_type": "code",
   "execution_count": 28,
   "metadata": {},
   "outputs": [],
   "source": [
    "import numpy as np"
   ]
  },
  {
   "cell_type": "code",
   "execution_count": 29,
   "metadata": {},
   "outputs": [
    {
     "data": {
      "text/plain": [
       "array([[[[0.83316571, 0.87161234],\n",
       "         [0.48002969, 0.96188761],\n",
       "         [0.16273018, 0.86616875]],\n",
       "\n",
       "        [[0.6731611 , 0.49294501],\n",
       "         [0.80676594, 0.1402748 ],\n",
       "         [0.00350507, 0.31968521]],\n",
       "\n",
       "        [[0.84955027, 0.90658103],\n",
       "         [0.31239588, 0.48262919],\n",
       "         [0.52989493, 0.98908193]],\n",
       "\n",
       "        [[0.75485041, 0.26931384],\n",
       "         [0.66743008, 0.95798544],\n",
       "         [0.19153396, 0.47582667]],\n",
       "\n",
       "        [[0.80829858, 0.34650383],\n",
       "         [0.49499415, 0.34396428],\n",
       "         [0.03062214, 0.89454405]]],\n",
       "\n",
       "\n",
       "       [[[0.28394261, 0.47876084],\n",
       "         [0.56923609, 0.51282017],\n",
       "         [0.71606733, 0.94118146]],\n",
       "\n",
       "        [[0.3206659 , 0.81016987],\n",
       "         [0.57496348, 0.325441  ],\n",
       "         [0.57155176, 0.99962477]],\n",
       "\n",
       "        [[0.12411384, 0.23604281],\n",
       "         [0.17977929, 0.33519276],\n",
       "         [0.0626983 , 0.04799267]],\n",
       "\n",
       "        [[0.04006729, 0.34221775],\n",
       "         [0.57071325, 0.34054468],\n",
       "         [0.82720403, 0.66572548]],\n",
       "\n",
       "        [[0.04944213, 0.15506404],\n",
       "         [0.95053928, 0.07444447],\n",
       "         [0.73404974, 0.83666884]]]])"
      ]
     },
     "execution_count": 29,
     "metadata": {},
     "output_type": "execute_result"
    }
   ],
   "source": [
    "a = np.random.random((2,5,3,2))\n",
    "a"
   ]
  },
  {
   "cell_type": "code",
   "execution_count": 30,
   "metadata": {},
   "outputs": [
    {
     "data": {
      "text/plain": [
       "(2, 5, 3)"
      ]
     },
     "execution_count": 30,
     "metadata": {},
     "output_type": "execute_result"
    }
   ],
   "source": [
    "a1 =a[:, 0:, :, 0]\n",
    "a1\n",
    "a1.shape"
   ]
  },
  {
   "cell_type": "code",
   "execution_count": 31,
   "metadata": {},
   "outputs": [
    {
     "data": {
      "text/plain": [
       "array([[[0.83316571, 0.48002969, 0.16273018],\n",
       "        [0.6731611 , 0.80676594, 0.00350507],\n",
       "        [0.84955027, 0.31239588, 0.52989493],\n",
       "        [0.75485041, 0.66743008, 0.19153396],\n",
       "        [0.80829858, 0.49499415, 0.03062214]],\n",
       "\n",
       "       [[0.28394261, 0.56923609, 0.71606733],\n",
       "        [0.3206659 , 0.57496348, 0.57155176],\n",
       "        [0.12411384, 0.17977929, 0.0626983 ],\n",
       "        [0.04006729, 0.57071325, 0.82720403],\n",
       "        [0.04944213, 0.95053928, 0.73404974]]])"
      ]
     },
     "execution_count": 31,
     "metadata": {},
     "output_type": "execute_result"
    }
   ],
   "source": [
    "a1"
   ]
  },
  {
   "cell_type": "code",
   "execution_count": 22,
   "metadata": {},
   "outputs": [
    {
     "data": {
      "text/plain": [
       "(2, 5, 2)"
      ]
     },
     "execution_count": 22,
     "metadata": {},
     "output_type": "execute_result"
    }
   ],
   "source": [
    "a2=a[:, :, :, 0]\n",
    "a2\n",
    "a2.shape"
   ]
  },
  {
   "cell_type": "code",
   "execution_count": 34,
   "metadata": {},
   "outputs": [
    {
     "data": {
      "text/plain": [
       "3"
      ]
     },
     "execution_count": 34,
     "metadata": {},
     "output_type": "execute_result"
    }
   ],
   "source": [
    "b=np.random.random((2,3,4))\n",
    "len(b[1])"
   ]
  },
  {
   "cell_type": "code",
   "execution_count": null,
   "metadata": {},
   "outputs": [],
   "source": []
  }
 ],
 "metadata": {
  "kernelspec": {
   "display_name": "Python 3",
   "language": "python",
   "name": "python3"
  },
  "language_info": {
   "codemirror_mode": {
    "name": "ipython",
    "version": 3
   },
   "file_extension": ".py",
   "mimetype": "text/x-python",
   "name": "python",
   "nbconvert_exporter": "python",
   "pygments_lexer": "ipython3",
   "version": "3.7.7"
  }
 },
 "nbformat": 4,
 "nbformat_minor": 4
}
